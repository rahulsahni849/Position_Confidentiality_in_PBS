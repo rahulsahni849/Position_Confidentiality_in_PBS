{
 "cells": [
  {
   "cell_type": "code",
   "execution_count": 1,
   "metadata": {},
   "outputs": [],
   "source": [
    "import xml.etree.ElementTree as ET\n",
    "import pprint\n",
    "import random as rd\n",
    "import folium as flMap\n",
    "from haversine import haversine"
   ]
  },
  {
   "cell_type": "code",
   "execution_count": 5,
   "metadata": {},
   "outputs": [
    {
     "name": "stdout",
     "output_type": "stream",
     "text": [
      "[<__main__.LatLon object at 0x000001CED1024520>,\n",
      " <__main__.LatLon object at 0x000001CED101D7B0>,\n",
      " <__main__.LatLon object at 0x000001CEC0267100>,\n",
      " <__main__.LatLon object at 0x000001CED130C130>,\n",
      " <__main__.LatLon object at 0x000001CED126C8B0>,\n",
      " <__main__.LatLon object at 0x000001CED126FEE0>,\n",
      " <__main__.LatLon object at 0x000001CED105E200>,\n",
      " <__main__.LatLon object at 0x000001CED12F73D0>,\n",
      " <__main__.LatLon object at 0x000001CED12F7F10>,\n",
      " <__main__.LatLon object at 0x000001CED12F66B0>,\n",
      " <__main__.LatLon object at 0x000001CED127CF70>,\n",
      " <__main__.LatLon object at 0x000001CED127EF20>,\n",
      " <__main__.LatLon object at 0x000001CED127EA70>,\n",
      " <__main__.LatLon object at 0x000001CED1290D30>,\n",
      " <__main__.LatLon object at 0x000001CED1290280>,\n",
      " <__main__.LatLon object at 0x000001CED1293880>,\n",
      " <__main__.LatLon object at 0x000001CED1290970>,\n",
      " <__main__.LatLon object at 0x000001CED1292470>,\n",
      " <__main__.LatLon object at 0x000001CED1293D90>,\n",
      " <__main__.LatLon object at 0x000001CED1290AF0>,\n",
      " <__main__.LatLon object at 0x000001CED1290CD0>,\n",
      " <__main__.LatLon object at 0x000001CED12908E0>,\n",
      " <__main__.LatLon object at 0x000001CED1292710>,\n",
      " <__main__.LatLon object at 0x000001CED1293F40>,\n",
      " <__main__.LatLon object at 0x000001CEC0282920>,\n",
      " <__main__.LatLon object at 0x000001CED111B790>,\n",
      " <__main__.LatLon object at 0x000001CED111B6A0>,\n",
      " <__main__.LatLon object at 0x000001CED111BAF0>,\n",
      " <__main__.LatLon object at 0x000001CED111BA90>,\n",
      " <__main__.LatLon object at 0x000001CED111BA30>,\n",
      " <__main__.LatLon object at 0x000001CED111BB80>,\n",
      " <__main__.LatLon object at 0x000001CED111B820>]\n"
     ]
    }
   ],
   "source": [
    "\n",
    "class LatLon:\n",
    "    def __init__(self,lat,lon):\n",
    "        self.lat = float(lat)\n",
    "        self.lon = float(lon)\n",
    "\n",
    "\n",
    "tree = ET.parse('route.gpx')\n",
    "root = tree.getroot()\n",
    "\n",
    "\n",
    "lat_lon_list=[]\n",
    "for i in root.iter(\"rtept\"):\n",
    "    lat_lon_list.append(LatLon(i.attrib['lat'],i.attrib['lon']))\n",
    "\n",
    "pprint.PrettyPrinter().pprint(lat_lon_list)\n",
    "\n",
    "\n",
    "\n",
    "\n"
   ]
  },
  {
   "cell_type": "code",
   "execution_count": null,
   "metadata": {},
   "outputs": [],
   "source": []
  }
 ],
 "metadata": {
  "kernelspec": {
   "display_name": "Python 3.10.4 64-bit",
   "language": "python",
   "name": "python3"
  },
  "language_info": {
   "codemirror_mode": {
    "name": "ipython",
    "version": 3
   },
   "file_extension": ".py",
   "mimetype": "text/x-python",
   "name": "python",
   "nbconvert_exporter": "python",
   "pygments_lexer": "ipython3",
   "version": "3.10.4"
  },
  "orig_nbformat": 4,
  "vscode": {
   "interpreter": {
    "hash": "6eb1ca0e59ab85dc9eb8be3744d92e9e4e7eb514696998a8a0ffac57ba5d31d3"
   }
  }
 },
 "nbformat": 4,
 "nbformat_minor": 2
}
